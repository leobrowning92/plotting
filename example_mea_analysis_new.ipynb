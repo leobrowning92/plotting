{
 "cells": [
  {
   "cell_type": "code",
   "execution_count": null,
   "metadata": {},
   "outputs": [],
   "source": [
    "import pandas as pd\n",
    "import numpy as np\n",
    "import matplotlib.pyplot as plt\n",
    "import matplotlib.cm as cm\n",
    "import matplotlib.colors as colors\n",
    "import utils.mea_analysis as mea\n",
    "from sklearn.decomposition import PCA\n",
    "import seaborn as sns\n",
    "import re\n",
    "import os"
   ]
  },
  {
   "cell_type": "markdown",
   "metadata": {},
   "source": [
    "## Todo:\n",
    "\n",
    "- [ ] look at attractive region with only good channels in pca plots\n",
    "\n",
    " - [x] implement functional channel removal on plotting and pca\n",
    " \n",
    "    - [x] annotate plot_principal_components \n",
    " \n",
    "    - [x] work on annotating plot_pca_projection\n",
    " \n",
    "    - [x] plot with channels removed\n",
    " \n",
    " - [ ] add different colours for each channel for voltage plot\n",
    "\n",
    "    - [x] annotate plot_signal/plot_voltages\n",
    " \n",
    "    - [ ] isolate individual channels\n",
    " \n",
    "    - [ ] add colours corresponding to each channel\n",
    " \n",
    "    - [ ] investigate removing specific channels that don't show characteristic behaviour\n",
    "    \n",
    "  - [ ] pca plot with only good channels in attractive region\n",
    "\n",
    "- [ ] continue investigating cluster analysis"
   ]
  },
  {
   "cell_type": "code",
   "execution_count": null,
   "metadata": {},
   "outputs": [],
   "source": [
    "vdf = pd.read_csv(\"example_data/MEA002_postS_50V_V.csv\",skiprows=22, sep=\"\\t\") #import 14-dimensional voltage data\n",
    "smudf = pd.read_csv(\"example_data/MEA002_postS_50V_SMU.csv\",skiprows=21, sep=\"\\t\") #import current/conductance data\n",
    "filepath = \"example_data/MEA002_postS_50V_SMU.csv\"\n",
    "\n",
    "faulty_channels = [0,2] #removing unwanted voltage channels from PCA process"
   ]
  },
  {
   "cell_type": "code",
   "execution_count": null,
   "metadata": {},
   "outputs": [],
   "source": [
    "vdf = vdf.drop(vdf.index[46000:])\n",
    "smudf = smudf.drop(smudf.index[230:])"
   ]
  },
  {
   "cell_type": "code",
   "execution_count": null,
   "metadata": {},
   "outputs": [],
   "source": [
    "vcols = []\n",
    "smucols = []\n",
    "\n",
    "for header in list(vdf):\n",
    "    header = header.replace(\"Voltage_\", \"v\")\n",
    "    header = header.replace(\"Untitled\", \"current\")\n",
    "    header = header.replace(\"X_Value\", \"time\")\n",
    "    vcols.append(header)\n",
    "    \n",
    "for header in list(smudf):\n",
    "    header = header.replace(\"Untitled\", \"current\")\n",
    "    header = header.replace(\"X_Value\", \"time\")\n",
    "    smucols.append(header)\n",
    "\n",
    "vdf.columns = vcols\n",
    "smudf.columns = smucols\n",
    "\n",
    "vdf[\"trel\"] = vdf.time - vdf.time.iloc[0]\n",
    "smudf[\"trel\"] = smudf.time - smudf.time.iloc[0]\n",
    "\n",
    "vdf.trel = pd.to_numeric(vdf.trel)\n",
    "smudf.trel = pd.to_numeric(smudf.trel)\n",
    "\n",
    "vdf = vdf.drop(['Comment'], axis=1)\n",
    "smudf = smudf.drop(['Comment'], axis=1)"
   ]
  },
  {
   "cell_type": "code",
   "execution_count": null,
   "metadata": {},
   "outputs": [],
   "source": [
    "print(vdf.info())\n",
    "print(smudf.info())"
   ]
  },
  {
   "cell_type": "code",
   "execution_count": null,
   "metadata": {},
   "outputs": [],
   "source": [
    "print(vdf.head())\n",
    "print(smudf.head())\n",
    "print(vdf.tail())\n",
    "print(smudf.tail())"
   ]
  },
  {
   "cell_type": "code",
   "execution_count": null,
   "metadata": {},
   "outputs": [],
   "source": [
    "mea.open_data(filepath,smudf,vdf)"
   ]
  },
  {
   "cell_type": "markdown",
   "metadata": {},
   "source": [
    "### isolate channels when plotting signal (plot_signal)"
   ]
  },
  {
   "cell_type": "code",
   "execution_count": null,
   "metadata": {},
   "outputs": [],
   "source": [
    "tr=(0, 10000) #time period of interest\n",
    "vr=(0, 16) #channels of interest"
   ]
  },
  {
   "cell_type": "code",
   "execution_count": null,
   "metadata": {},
   "outputs": [],
   "source": [
    "sdf = smudf.copy() #ensures the original list smudf is unchanged when sdf is altered"
   ]
  },
  {
   "cell_type": "code",
   "execution_count": null,
   "metadata": {},
   "outputs": [],
   "source": [
    "fig, axes = plt.subplots(nrows=2, figsize=(6.3, 6.3)) #creates a set of subplots in a single figure"
   ]
  },
  {
   "cell_type": "code",
   "execution_count": null,
   "metadata": {},
   "outputs": [],
   "source": [
    "mea.plot_conductance(sdf, axes.flat[0], tr) #function creates conductance subplot"
   ]
  },
  {
   "cell_type": "code",
   "execution_count": null,
   "metadata": {},
   "outputs": [],
   "source": [
    "vdf = vdf[(vdf.trel > tr[0]) & (vdf.trel < tr[1])] #removes all elements outside the time period of interest"
   ]
  },
  {
   "cell_type": "code",
   "execution_count": null,
   "metadata": {},
   "outputs": [],
   "source": [
    "print(vdf.head())\n",
    "print(vdf.tail())"
   ]
  },
  {
   "cell_type": "code",
   "execution_count": null,
   "metadata": {},
   "outputs": [],
   "source": [
    "ax = axes.flat[1] #\"1\" refers to the index of the subplot within the array of subplots, defined when \"axes\" was created"
   ]
  },
  {
   "cell_type": "code",
   "execution_count": null,
   "metadata": {},
   "outputs": [],
   "source": [
    "num_colors = vr[1]\n",
    "cmap = cm.Set1(np.linspace(0,1,num_colors-1))\n",
    "ax.set_prop_cycle('color', cmap.tolist())"
   ]
  },
  {
   "cell_type": "code",
   "execution_count": null,
   "metadata": {},
   "outputs": [],
   "source": [
    "for i in range(*vr): #iterates over channels of interest, * indicates an arbitary number of arguments\n",
    "    if i in faulty_channels:\n",
    "        pass\n",
    "else:\n",
    "    ax.plot(\n",
    "    vdf.trel,                    #x-coordinates of plotted line (relative time)\n",
    "    vdf[list(vdf)[i + 1]],       #y-coordinates of plotted line (relative time)\n",
    "    alpha=1,                     #fully opaque\n",
    "    linewidth=0.5,\n",
    ")"
   ]
  },
  {
   "cell_type": "code",
   "execution_count": null,
   "metadata": {},
   "outputs": [],
   "source": [
    "ax.set_xlabel(\"Time (s)\", fontsize=12)\n",
    "ax.set_ylabel(\"Voltage (V)\", fontsize=12)\n",
    "ax.tick_params(direction=\"in\", which=\"both\") #causes ticks to point into the box, on both x and y axes"
   ]
  },
  {
   "cell_type": "code",
   "execution_count": null,
   "metadata": {},
   "outputs": [],
   "source": [
    "for label in (\n",
    "    axes.flat[1].get_xticklabels()\n",
    "    + axes.flat[1].get_yticklabels()\n",
    "    + axes.flat[0].get_xticklabels()\n",
    "    + axes.flat[0].get_yticklabels()\n",
    "):\n",
    "    label.set_fontsize(12) #sets fontsize of all tick labels to 12"
   ]
  },
  {
   "cell_type": "code",
   "execution_count": null,
   "metadata": {},
   "outputs": [],
   "source": [
    "sublabels = [\"(a)\", \"(b)\", \"(c)\", \"(d)\", \"(e)\", \"(f)\"] \n",
    "\n",
    "for i in range(len(axes)): #describes position of each subplot within the figure\n",
    "    axes[i].text(\n",
    "    0.03, #x-position of subplot\n",
    "    0.91, #y-position of subplot\n",
    "    sublabels[i],                   \n",
    "    horizontalalignment=\"left\",\n",
    "    verticalalignment=\"center\", #alignment of sublabels \n",
    "    transform=axes[i].transAxes, #sets (x,y) coordinates to be relative to the axes of the specific subplot being iterated over\n",
    "    color=\"k\", #color, size and style of each sublabel\n",
    "    size=\"large\",\n",
    "    weight=\"bold\",\n",
    ")"
   ]
  },
  {
   "cell_type": "code",
   "execution_count": null,
   "metadata": {},
   "outputs": [],
   "source": [
    "plt.tight_layout()"
   ]
  },
  {
   "cell_type": "markdown",
   "metadata": {},
   "source": [
    "### ---"
   ]
  },
  {
   "cell_type": "code",
   "execution_count": null,
   "metadata": {},
   "outputs": [],
   "source": [
    "mea.plot_signal(vdf,smudf,show=True)"
   ]
  },
  {
   "cell_type": "code",
   "execution_count": null,
   "metadata": {},
   "outputs": [],
   "source": [
    "dg, iei =mea.analyze_events(smudf,gthresh=0.01)"
   ]
  },
  {
   "cell_type": "code",
   "execution_count": null,
   "metadata": {},
   "outputs": [],
   "source": [
    "fig, ax = plt.subplots(nrows=1,figsize=(15,5))\n",
    "ax.eventplot(dg[:,1],linewidth=1,color='k')\n",
    "ax2=ax.twinx()\n",
    "ax2.plot(smudf.trel,smudf.conductance,'r')"
   ]
  },
  {
   "cell_type": "code",
   "execution_count": null,
   "metadata": {},
   "outputs": [],
   "source": [
    "fig, axes = plt.subplots(ncols=2, figsize=(10,5))\n",
    "mea.plot_loglog(dg[:,0],axes[0])\n",
    "mea.plot_loglog(iei,axes[1])\n",
    "axes[0].set_title(\"loglog conductance switch size histogram\")\n",
    "axes[1].set_title(\"loglog interevent interval length histogram\")"
   ]
  },
  {
   "cell_type": "code",
   "execution_count": null,
   "metadata": {},
   "outputs": [],
   "source": [
    "resd_all = vdf.iloc[:,3:-1].to_numpy()"
   ]
  },
  {
   "cell_type": "code",
   "execution_count": null,
   "metadata": {},
   "outputs": [],
   "source": [
    "print(resd_all.shape)\n",
    "print(resd_all.ndim)\n",
    "print(resd_all.size)"
   ]
  },
  {
   "cell_type": "code",
   "execution_count": null,
   "metadata": {},
   "outputs": [],
   "source": [
    "for m in range(14):\n",
    "    print(resd_all[2,m])"
   ]
  },
  {
   "cell_type": "code",
   "execution_count": null,
   "metadata": {},
   "outputs": [],
   "source": [
    "resd = np.delete(resd_all, faulty_channels, axis=1)"
   ]
  },
  {
   "cell_type": "code",
   "execution_count": null,
   "metadata": {},
   "outputs": [],
   "source": [
    "print(resd.shape)\n",
    "print(resd.ndim)\n",
    "print(resd.size)"
   ]
  },
  {
   "cell_type": "code",
   "execution_count": null,
   "metadata": {},
   "outputs": [],
   "source": [
    "starttime = 10000 #start time of time-scale of interest in ms\n",
    "endtime = 11000 #end time of time-scale of in in ms\n",
    "resd = resd[starttime:endtime,:]"
   ]
  },
  {
   "cell_type": "code",
   "execution_count": null,
   "metadata": {},
   "outputs": [],
   "source": [
    "mea.plot_principal_components(resd, faulty_channels, show = True, ends = True)\n",
    "imgname = os.path.basename(filepath)[:-4]\n",
    "plt.savefig(f\"plots/{imgname}_{starttime/1000:0.0f}-{endtime/1000:0.0f}s_without{faulty_channels}.png\")"
   ]
  },
  {
   "cell_type": "markdown",
   "metadata": {},
   "source": [
    "### Manual PCA exploration"
   ]
  },
  {
   "cell_type": "markdown",
   "metadata": {},
   "source": [
    "For neds ongoing python education: making a class and doing some stuff with methods and attributes"
   ]
  },
  {
   "cell_type": "code",
   "execution_count": null,
   "metadata": {},
   "outputs": [],
   "source": [
    "class dog:\n",
    "    def __init__(self, color): # this is a special method because of the __ or dunder method\n",
    "        \"\"\" gets run whenever you make a new dog\"\"\"\n",
    "        self.color = color #this sets color as the value for the attribute\n",
    "        print(f\"making a {self.color} dog\")\n",
    "        \n",
    "    def bark(self): # this is a method, methods are functions that are attached to objects\n",
    "        print(f\"woof {self.color}\")"
   ]
  },
  {
   "cell_type": "code",
   "execution_count": null,
   "metadata": {},
   "outputs": [],
   "source": [
    "d = dog('black')\n",
    "e = dog('white')\n",
    "d.bark()\n",
    "d.color='green'\n",
    "d.bark()"
   ]
  },
  {
   "cell_type": "code",
   "execution_count": null,
   "metadata": {},
   "outputs": [],
   "source": [
    "# This step is VITAL for reasonable PCA. without some form of normalization pca is pretty odd.\n",
    "# resd is the original data\n",
    "# resd is an np array where each column is a dimension (voltage channel)\n",
    "# and each row is a measurement of all dimensions (voltage at a time)\n",
    "# normalise resd, to make PCA play nice\n",
    "# can normalise in a number of ways, eg normalise by the whole dataset mean etc\n",
    "resd = np.array([(point - point.mean()) / point.mean() for point in resd])"
   ]
  },
  {
   "cell_type": "code",
   "execution_count": null,
   "metadata": {},
   "outputs": [],
   "source": [
    "\n",
    "\n",
    "# from sklearn.decomposition import PCA\n",
    "# instantiating a PCA oject\n",
    "pca = PCA()\n",
    "\n",
    "\n",
    "# perform the fit method of the pca object using our normalised data\n",
    "pca.fit(resd)\n",
    "# fit just refers to finding the pricipal components and score that \"fit\" your specific data (resd)\n"
   ]
  },
  {
   "cell_type": "code",
   "execution_count": null,
   "metadata": {},
   "outputs": [],
   "source": [
    "pc = pca.components_ # attribute of the pca object after we have done fit"
   ]
  },
  {
   "cell_type": "code",
   "execution_count": null,
   "metadata": {},
   "outputs": [],
   "source": [
    "pc.shape # 14 by 14 (or n by n, where n is the total number of channels used) vector, with rows = components, and columns = number of dimensions of input data"
   ]
  },
  {
   "cell_type": "markdown",
   "metadata": {},
   "source": [
    "#### principal component channel removal"
   ]
  },
  {
   "cell_type": "code",
   "execution_count": null,
   "metadata": {},
   "outputs": [],
   "source": [
    "fig, axes = plt.subplots(nrows=2, ncols=2, figsize=(6.3, 6.3))"
   ]
  },
  {
   "cell_type": "code",
   "execution_count": null,
   "metadata": {},
   "outputs": [],
   "source": [
    "# plots the relative variance that is due to each of the pc vectors\n",
    "axes.flat[0].plot(pca.explained_variance_ratio_, \"ro\")\n",
    "axes.flat[0].set_ylabel(\"relative variation ratio\")\n",
    "axes.flat[0].set_xlabel(\"principal component\")"
   ]
  },
  {
   "cell_type": "code",
   "execution_count": null,
   "metadata": {},
   "outputs": [],
   "source": [
    "display_pc = np.insert(pc, faulty_channels, np.nan, axis=1)  # adds in empty values to allow 4x4 display of vectors"
   ]
  },
  {
   "cell_type": "code",
   "execution_count": null,
   "metadata": {},
   "outputs": [],
   "source": [
    "display_pc.shape # gives the size of the np array display_pc as a tuple"
   ]
  },
  {
   "cell_type": "code",
   "execution_count": null,
   "metadata": {},
   "outputs": [],
   "source": [
    "vector_0 = np.insert(display_pc[0], [0, 14], np.nan).reshape((4, 4)) #places 1st principle component basis vector into a 4x4 array with nan at indices 0 and 14 (source and drain)\n",
    "print(vector_0)\n",
    "vector_1 = np.insert(display_pc[1], [0, 14], np.nan).reshape((4, 4)) #places 2nd principle component vector into a 4x4 array with nan at indices 0 and 14 (source and drain)\n",
    "print(vector_1)\n",
    "vrange_0 = np.nanmax(abs(vector_0))\n",
    "print(vrange_0)\n",
    "vrange_1 = np.nanmax(abs(vector_1))\n",
    "print(vrange_1)"
   ]
  },
  {
   "cell_type": "code",
   "execution_count": null,
   "metadata": {},
   "outputs": [],
   "source": [
    "im_0 = axes.flat[1].imshow(vector_0, cmap=\"bwr\", vmax=vrange_0, vmin=-vrange_0) #displays each component vector using a blue/white/red colour map with a range defined by vrange\n",
    "im_1 = axes.flat[2].imshow(vector_1, cmap=\"bwr\", vmax=vrange_1, vmin=-vrange_1) #\"1\" and \"2\" refer to the index of the image within the array of subplots, defined early when\n",
    "                                                                                #\"axes\" was created  "
   ]
  },
  {
   "cell_type": "code",
   "execution_count": null,
   "metadata": {},
   "outputs": [],
   "source": [
    "axes.flat[1].axis(\"off\") # turns off axes and axes values in the component vector displays\n",
    "axes.flat[1].set_title(\n",
    "    \"$p_0 var$ = {:0.2f}\".format(pca.explained_variance_ratio_[0]) #adds the percentage of variance this component vector accounts for as the title, 2dp\n",
    ")"
   ]
  },
  {
   "cell_type": "code",
   "execution_count": null,
   "metadata": {},
   "outputs": [],
   "source": [
    "axes.flat[2].axis(\"off\")\n",
    "axes.flat[2].set_title(\n",
    "    \"$p_1 var$ = {:0.2f}\".format(pca.explained_variance_ratio_[1])\n",
    ")"
   ]
  },
  {
   "cell_type": "code",
   "execution_count": null,
   "metadata": {},
   "outputs": [],
   "source": [
    "from mpl_toolkits.axes_grid1 import make_axes_locatable #package that allows colorbar to placed in a specific location\n",
    "\n",
    "divider_0 = make_axes_locatable(axes.flat[0])                #returns instance of AxesLocator class, providing append_axes method, used to create a new axes for a component \n",
    "                                                             #vector grid\n",
    "cax_0 = divider_0.append_axes(\"bottom\", size=\"10%\", pad=0.1) #cax is the axes into which the colorbar is drawn - cax axes is created below old axes, with width 0.1*axes and a\n",
    "                                                             #distance of 0.1in between axes and cax\n",
    "cb_0 = plt.colorbar(                                         \n",
    "    im_0, cax=cax_0, orientation=\"horizontal\", label=\"V\", format=\"%.2f\" #adds colorbar \"cb\" to plot, where im is the image descibed by the colorbar, cax is the new axes\n",
    ")                                                                       #orientation=colorbar orientation, label=label on colorbar's long axis, format=no. decimal points on scale\n",
    "\n",
    "divider_1 = make_axes_locatable(axes.flat[1])\n",
    "cax_1 = divider_1.append_axes(\"bottom\", size=\"10%\", pad=0.1)\n",
    "cb_1 = plt.colorbar(\n",
    "    im_1, cax=cax_1, orientation=\"horizontal\", label=\"V\", format=\"%.2f\"\n",
    ")"
   ]
  },
  {
   "cell_type": "code",
   "execution_count": null,
   "metadata": {},
   "outputs": [],
   "source": [
    "cmin_0 = -vrange_0        # colorbar min value\n",
    "cmax_0 = vrange_0         # colorbar max value\n",
    "span_0 = cmax_0 - cmin_0  # colorbar range\n",
    "        \n",
    "cb_0.set_ticks([cmin_0 + (0.1 * span_0), cmax_0 - (0.1 * span_0)]) #Set the locations of the tick marks from sequence\n",
    "cb_0.set_ticklabels(\n",
    "    [\"{:.2f}\".format(cmin_0 + (0.1 * span_0)), \"{:.2f}\".format(cmax_0 - (0.1 * span_0))] #Adds the voltage correlations corresponding to the locations of the ticks on the colorbar\n",
    ")\n",
    "cb_0.set_label(\"relative correlation\") #adds a label to the colorbar\n",
    "\n",
    "cmin_1 = -vrange_1      \n",
    "cmax_1 = vrange_1        \n",
    "span_1 = cmax_1 - cmin_1\n",
    "        \n",
    "cb_1.set_ticks([cmin_1 + (0.1 * span_1), cmax_1 - (0.1 * span_1)])\n",
    "cb_1.set_ticklabels(\n",
    "    [\"{:.2f}\".format(cmin_1 + (0.1 * span_1)), \"{:.2f}\".format(cmax_1 - (0.1 * span_1))]\n",
    ")\n",
    "cb_1.set_label(\"relative correlation\")"
   ]
  },
  {
   "cell_type": "code",
   "execution_count": null,
   "metadata": {},
   "outputs": [],
   "source": [
    "# projection of the measurements in resd on to the principal components \n",
    "\n",
    "ax.plot(\n",
    "    resd.dot(pc[0]), #x-axis is projection onto 1st principal component p_0\n",
    "    resd.dot(pc[1]), #y-axis is projection onto 2nd principal component p_1\n",
    "    ls=\"\", #linestyle\n",
    "    marker=\".\", #marker style\n",
    "    alpha=0.5, #sets alpha value (0.0 for fully transparent, 1.0 for fully opaque)\n",
    ")"
   ]
  },
  {
   "cell_type": "code",
   "execution_count": null,
   "metadata": {},
   "outputs": [],
   "source": [
    "#displays marker corresponding to the first data point in resd \n",
    "\n",
    "ax.plot(\n",
    "    resd.dot(pc[0])[0], #x-axis is projection onto 1st principal component p_0 by 1st data point (index 0)\n",
    "    resd.dot(pc[1])[0], #y-axis is projection onto 2nd principal component p_1 by 1st data point (index 0)\n",
    "    \"ro\", #marker formatting - red circle\n",
    ")"
   ]
  },
  {
   "cell_type": "code",
   "execution_count": null,
   "metadata": {},
   "outputs": [],
   "source": [
    "#displays marker corresponding to the final data point in resd \n",
    "\n",
    "ax.plot(\n",
    "    resd.dot(pc[0])[-1],  #x-axis is projection onto 1st principal component p_0 by last data point (index -1)\n",
    "    resd.dot(pc[1])[-1],  #y-axis is projection onto 2nd principal component p_1 by last data point (index -1)\n",
    "    \"kx\", #marker formatting - black x\n",
    ")"
   ]
  },
  {
   "cell_type": "code",
   "execution_count": null,
   "metadata": {},
   "outputs": [],
   "source": [
    "axes.flat[3].set_ylabel(\"$p_1$\") #sets y-axis title to p_1"
   ]
  },
  {
   "cell_type": "code",
   "execution_count": null,
   "metadata": {},
   "outputs": [],
   "source": [
    "axes.flat[3].set_xlabel(\"$p_0$\") #sets x-axis title to p_0"
   ]
  },
  {
   "cell_type": "code",
   "execution_count": null,
   "metadata": {},
   "outputs": [],
   "source": [
    "print(axes.shape)"
   ]
  },
  {
   "cell_type": "code",
   "execution_count": null,
   "metadata": {},
   "outputs": [],
   "source": [
    "#adding sublabels for each subplot\n",
    "\n",
    "sublabels = [\"(a)\", \"(b)\", \"(c)\", \"(d)\", \"(e)\", \"(f)\"] \n",
    "\n",
    "for i in range(len(axes.flat)): #iterates over each of the four subplots (axes)\n",
    "    axes.flat[i].text(\n",
    "        -0.15,\n",
    "        1.05,                   #(x,y) coordinates of each sublabel\n",
    "        sublabels[i],\n",
    "        horizontalalignment=\"left\",  #alignment of each sublabel\n",
    "        verticalalignment=\"center\",\n",
    "        transform=axes.flat[i].transAxes,  #sets (x,y) coordinates to be relative to the axes of the specific subplot being iterated over\n",
    "        color=\"k\",                  #color, size and style of each sublabel\n",
    "        size=\"large\",\n",
    "        weight=\"bold\",\n",
    "    )\n",
    "\n",
    "plt.tight_layout() #fits subplots into figure"
   ]
  },
  {
   "cell_type": "code",
   "execution_count": null,
   "metadata": {},
   "outputs": [],
   "source": []
  },
  {
   "cell_type": "markdown",
   "metadata": {},
   "source": [
    "#### principal component manual exploration"
   ]
  },
  {
   "cell_type": "code",
   "execution_count": null,
   "metadata": {},
   "outputs": [],
   "source": [
    "# first 14-d (n-d) normalised vector\n",
    "resd[0]"
   ]
  },
  {
   "cell_type": "code",
   "execution_count": null,
   "metadata": {},
   "outputs": [],
   "source": [
    "# first two principal component vectors.\n",
    "# eg. 0th row, all columns = [0,:] etc.\n",
    "pc1 = pc[0, :]\n",
    "pc2 = pc[1, :]"
   ]
  },
  {
   "cell_type": "code",
   "execution_count": null,
   "metadata": {},
   "outputs": [],
   "source": [
    "# projection of the first normalized vector of original vector onto first and second pc. \n",
    "# to what extent is this vector represented by each pc\n",
    "resd[0].dot(pc1), resd[0].dot(pc2)"
   ]
  },
  {
   "cell_type": "code",
   "execution_count": null,
   "metadata": {},
   "outputs": [],
   "source": [
    "# matrix multiplication of the first two pc vectors with the first data vector\n",
    "resd[0].dot(pc[:2,:].T)"
   ]
  },
  {
   "cell_type": "code",
   "execution_count": null,
   "metadata": {},
   "outputs": [],
   "source": [
    "# doing the matrix mult, with the first two pc, and the whole matrix of (n, 14) resd matrix\n",
    "# (n, 14).(14,2) -> (n,2)\n",
    "projection = resd.dot(pc[:2,:].T)"
   ]
  },
  {
   "cell_type": "code",
   "execution_count": null,
   "metadata": {},
   "outputs": [],
   "source": [
    "plt.scatter(projection[:,0], projection[:,1], alpha=0.2)\n",
    "# plt.xlim((0,200))\n",
    "# plt.ylim((-10,59))"
   ]
  },
  {
   "cell_type": "code",
   "execution_count": null,
   "metadata": {},
   "outputs": [],
   "source": [
    "sns.kdeplot(projection[:,0], projection[:,1], shade=True)"
   ]
  },
  {
   "cell_type": "code",
   "execution_count": null,
   "metadata": {},
   "outputs": [],
   "source": []
  }
 ],
 "metadata": {
  "kernelspec": {
   "display_name": "Python 3",
   "language": "python",
   "name": "python3"
  },
  "language_info": {
   "codemirror_mode": {
    "name": "ipython",
    "version": 3
   },
   "file_extension": ".py",
   "mimetype": "text/x-python",
   "name": "python",
   "nbconvert_exporter": "python",
   "pygments_lexer": "ipython3",
   "version": "3.7.7"
  }
 },
 "nbformat": 4,
 "nbformat_minor": 4
}
